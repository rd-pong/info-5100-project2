{
 "cells": [
  {
   "cell_type": "code",
   "execution_count": 60,
   "metadata": {},
   "outputs": [],
   "source": [
    "import pandas as pd\n",
    "import numpy as np\n",
    "import json"
   ]
  },
  {
   "cell_type": "code",
   "execution_count": 3,
   "metadata": {},
   "outputs": [
    {
     "data": {
      "text/html": [
       "<div>\n",
       "<style scoped>\n",
       "    .dataframe tbody tr th:only-of-type {\n",
       "        vertical-align: middle;\n",
       "    }\n",
       "\n",
       "    .dataframe tbody tr th {\n",
       "        vertical-align: top;\n",
       "    }\n",
       "\n",
       "    .dataframe thead th {\n",
       "        text-align: right;\n",
       "    }\n",
       "</style>\n",
       "<table border=\"1\" class=\"dataframe\">\n",
       "  <thead>\n",
       "    <tr style=\"text-align: right;\">\n",
       "      <th></th>\n",
       "      <th>user</th>\n",
       "      <th>date</th>\n",
       "      <th>content</th>\n",
       "      <th>replyCount</th>\n",
       "      <th>retweetCount</th>\n",
       "      <th>likeCount</th>\n",
       "    </tr>\n",
       "  </thead>\n",
       "  <tbody>\n",
       "    <tr>\n",
       "      <td>0</td>\n",
       "      <td>RealSkipBayless</td>\n",
       "      <td>[  43   10 2021]</td>\n",
       "      <td>Ja Morant is putting on a SHOW out here in Hol...</td>\n",
       "      <td>0</td>\n",
       "      <td>0</td>\n",
       "      <td>0</td>\n",
       "    </tr>\n",
       "    <tr>\n",
       "      <td>1</td>\n",
       "      <td>RealSkipBayless</td>\n",
       "      <td>[  43   10 2021]</td>\n",
       "      <td>Lakers look by far the best they've looked by ...</td>\n",
       "      <td>55</td>\n",
       "      <td>16</td>\n",
       "      <td>499</td>\n",
       "    </tr>\n",
       "    <tr>\n",
       "      <td>2</td>\n",
       "      <td>RealSkipBayless</td>\n",
       "      <td>[  43   10 2021]</td>\n",
       "      <td>LeBron gets rolled up on, grimaces while he st...</td>\n",
       "      <td>107</td>\n",
       "      <td>101</td>\n",
       "      <td>1488</td>\n",
       "    </tr>\n",
       "    <tr>\n",
       "      <td>3</td>\n",
       "      <td>RealSkipBayless</td>\n",
       "      <td>[  43   10 2021]</td>\n",
       "      <td>Russ (naturally) missed all three of his shots...</td>\n",
       "      <td>51</td>\n",
       "      <td>22</td>\n",
       "      <td>525</td>\n",
       "    </tr>\n",
       "    <tr>\n",
       "      <td>4</td>\n",
       "      <td>RealSkipBayless</td>\n",
       "      <td>[  43   10 2021]</td>\n",
       "      <td>Lakers are on a 25-7 run fueled by defense, fa...</td>\n",
       "      <td>31</td>\n",
       "      <td>30</td>\n",
       "      <td>499</td>\n",
       "    </tr>\n",
       "  </tbody>\n",
       "</table>\n",
       "</div>"
      ],
      "text/plain": [
       "              user              date  \\\n",
       "0  RealSkipBayless  [  43   10 2021]   \n",
       "1  RealSkipBayless  [  43   10 2021]   \n",
       "2  RealSkipBayless  [  43   10 2021]   \n",
       "3  RealSkipBayless  [  43   10 2021]   \n",
       "4  RealSkipBayless  [  43   10 2021]   \n",
       "\n",
       "                                             content  replyCount  \\\n",
       "0  Ja Morant is putting on a SHOW out here in Hol...           0   \n",
       "1  Lakers look by far the best they've looked by ...          55   \n",
       "2  LeBron gets rolled up on, grimaces while he st...         107   \n",
       "3  Russ (naturally) missed all three of his shots...          51   \n",
       "4  Lakers are on a 25-7 run fueled by defense, fa...          31   \n",
       "\n",
       "   retweetCount  likeCount  \n",
       "0             0          0  \n",
       "1            16        499  \n",
       "2           101       1488  \n",
       "3            22        525  \n",
       "4            30        499  "
      ]
     },
     "execution_count": 3,
     "metadata": {},
     "output_type": "execute_result"
    }
   ],
   "source": [
    "username = \"RealSkipBayless\"\n",
    "tweets_df = pd.read_csv('cleaned-data/user-{}-tweets-cleaned.csv'.format(username))\n",
    "\n",
    "# Displays first 5 entries from dataframe\n",
    "tweets_df.head()"
   ]
  },
  {
   "cell_type": "code",
   "execution_count": 38,
   "metadata": {},
   "outputs": [],
   "source": [
    "df_states = pd.read_csv('state-survey-responses-fa21.csv')\n",
    "states = df_states['state_name'].to_numpy()"
   ]
  },
  {
   "cell_type": "code",
   "execution_count": 39,
   "metadata": {},
   "outputs": [
    {
     "data": {
      "text/plain": [
       "array(['Alabama', 'Alaska', 'Arizona', 'Arkansas', 'California',\n",
       "       'Colorado', 'Connecticut', 'Delaware', 'District of Columbia',\n",
       "       'Florida', 'Georgia', 'Hawaii', 'Idaho', 'Illinois', 'Indiana',\n",
       "       'Iowa', 'Kansas', 'Kentucky', 'Louisiana', 'Maine', 'Maryland',\n",
       "       'Massachusetts', 'Michigan', 'Minnesota', 'Mississippi',\n",
       "       'Missouri', 'Montana', 'Nebraska', 'Nevada', 'New Hampshire',\n",
       "       'New Jersey', 'New Mexico', 'New York', 'North Carolina',\n",
       "       'North Dakota', 'Ohio', 'Oklahoma', 'Oregon', 'Pennsylvania',\n",
       "       'Puerto Rico', 'Rhode Island', 'South Carolina', 'South Dakota',\n",
       "       'Tennessee', 'Texas', 'Utah', 'Vermont', 'Virginia', 'Washington',\n",
       "       'West Virginia', 'Wisconsin', 'Wyoming'], dtype=object)"
      ]
     },
     "execution_count": 39,
     "metadata": {},
     "output_type": "execute_result"
    }
   ],
   "source": [
    "states"
   ]
  },
  {
   "cell_type": "code",
   "execution_count": 45,
   "metadata": {},
   "outputs": [],
   "source": [
    "# Format\n",
    "\n",
    "#State Name:\n",
    "#    Twitter User #1: Tweet Mention Count\n",
    "#    Twitter User #2: Tweet Mention Count\n",
    "#    Twitter User #3: Tweet Mention Count\n",
    "#    Twitter User #4: Tweet Mention Count\n",
    "#    Twitter User #5: Tweet Mention Count\n",
    "#State Name:\n",
    "#    ..."
   ]
  },
  {
   "cell_type": "code",
   "execution_count": 62,
   "metadata": {},
   "outputs": [],
   "source": [
    "finalDict = {}\n",
    "user = 'Skip Bayless'\n",
    "\n",
    "for state in states:\n",
    "    stateLower = state.lower()\n",
    "    count = 0\n",
    "\n",
    "    for val in tweets_df.loc[:,'content']:\n",
    "        if (stateLower in val.lower()):\n",
    "            count += 1\n",
    "\n",
    "    finalDict[state] = count"
   ]
  },
  {
   "cell_type": "code",
   "execution_count": 63,
   "metadata": {},
   "outputs": [
    {
     "data": {
      "text/plain": [
       "{'Alabama': 98,\n",
       " 'Alaska': 0,\n",
       " 'Arizona': 115,\n",
       " 'Arkansas': 12,\n",
       " 'California': 9,\n",
       " 'Colorado': 5,\n",
       " 'Connecticut': 0,\n",
       " 'Delaware': 1,\n",
       " 'District of Columbia': 0,\n",
       " 'Florida': 45,\n",
       " 'Georgia': 37,\n",
       " 'Hawaii': 2,\n",
       " 'Idaho': 0,\n",
       " 'Illinois': 3,\n",
       " 'Indiana': 61,\n",
       " 'Iowa': 45,\n",
       " 'Kansas': 83,\n",
       " 'Kentucky': 85,\n",
       " 'Louisiana': 3,\n",
       " 'Maine': 17,\n",
       " 'Maryland': 3,\n",
       " 'Massachusetts': 0,\n",
       " 'Michigan': 90,\n",
       " 'Minnesota': 43,\n",
       " 'Mississippi': 5,\n",
       " 'Missouri': 11,\n",
       " 'Montana': 63,\n",
       " 'Nebraska': 10,\n",
       " 'Nevada': 9,\n",
       " 'New Hampshire': 0,\n",
       " 'New Jersey': 1,\n",
       " 'New Mexico': 0,\n",
       " 'New York': 48,\n",
       " 'North Carolina': 5,\n",
       " 'North Dakota': 2,\n",
       " 'Ohio': 141,\n",
       " 'Oklahoma': 192,\n",
       " 'Oregon': 76,\n",
       " 'Pennsylvania': 1,\n",
       " 'Puerto Rico': 0,\n",
       " 'Rhode Island': 0,\n",
       " 'South Carolina': 4,\n",
       " 'South Dakota': 1,\n",
       " 'Tennessee': 26,\n",
       " 'Texas': 224,\n",
       " 'Utah': 96,\n",
       " 'Vermont': 0,\n",
       " 'Virginia': 19,\n",
       " 'Washington': 142,\n",
       " 'West Virginia': 4,\n",
       " 'Wisconsin': 24,\n",
       " 'Wyoming': 1}"
      ]
     },
     "execution_count": 63,
     "metadata": {},
     "output_type": "execute_result"
    }
   ],
   "source": [
    "finalDict"
   ]
  },
  {
   "cell_type": "code",
   "execution_count": 64,
   "metadata": {},
   "outputs": [],
   "source": [
    "with open('example.json' ,'w') as f:\n",
    "    json.dump(finalDict, f)"
   ]
  },
  {
   "cell_type": "code",
   "execution_count": null,
   "metadata": {},
   "outputs": [],
   "source": []
  },
  {
   "cell_type": "code",
   "execution_count": null,
   "metadata": {},
   "outputs": [],
   "source": []
  }
 ],
 "metadata": {
  "kernelspec": {
   "display_name": "Python 3",
   "language": "python",
   "name": "python3"
  },
  "language_info": {
   "codemirror_mode": {
    "name": "ipython",
    "version": 3
   },
   "file_extension": ".py",
   "mimetype": "text/x-python",
   "name": "python",
   "nbconvert_exporter": "python",
   "pygments_lexer": "ipython3",
   "version": "3.6.5"
  }
 },
 "nbformat": 4,
 "nbformat_minor": 2
}
