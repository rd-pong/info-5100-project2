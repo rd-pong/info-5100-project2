{
 "cells": [
  {
   "cell_type": "code",
   "execution_count": 13,
   "metadata": {},
   "outputs": [
    {
     "data": {
      "text/html": [
       "<div>\n",
       "<style scoped>\n",
       "    .dataframe tbody tr th:only-of-type {\n",
       "        vertical-align: middle;\n",
       "    }\n",
       "\n",
       "    .dataframe tbody tr th {\n",
       "        vertical-align: top;\n",
       "    }\n",
       "\n",
       "    .dataframe thead th {\n",
       "        text-align: right;\n",
       "    }\n",
       "</style>\n",
       "<table border=\"1\" class=\"dataframe\">\n",
       "  <thead>\n",
       "    <tr style=\"text-align: right;\">\n",
       "      <th></th>\n",
       "      <th>user</th>\n",
       "      <th>date</th>\n",
       "      <th>content</th>\n",
       "      <th>replyCount</th>\n",
       "      <th>retweetCount</th>\n",
       "      <th>likeCount</th>\n",
       "    </tr>\n",
       "  </thead>\n",
       "  <tbody>\n",
       "    <tr>\n",
       "      <th>0</th>\n",
       "      <td>RealSkipBayless</td>\n",
       "      <td>[  43   10 2021]</td>\n",
       "      <td>Ja Morant is putting on a SHOW out here in Hol...</td>\n",
       "      <td>0</td>\n",
       "      <td>0</td>\n",
       "      <td>0</td>\n",
       "    </tr>\n",
       "    <tr>\n",
       "      <th>1</th>\n",
       "      <td>RealSkipBayless</td>\n",
       "      <td>[  43   10 2021]</td>\n",
       "      <td>Lakers look by far the best they've looked by ...</td>\n",
       "      <td>55</td>\n",
       "      <td>16</td>\n",
       "      <td>499</td>\n",
       "    </tr>\n",
       "    <tr>\n",
       "      <th>2</th>\n",
       "      <td>RealSkipBayless</td>\n",
       "      <td>[  43   10 2021]</td>\n",
       "      <td>LeBron gets rolled up on, grimaces while he st...</td>\n",
       "      <td>107</td>\n",
       "      <td>101</td>\n",
       "      <td>1488</td>\n",
       "    </tr>\n",
       "    <tr>\n",
       "      <th>3</th>\n",
       "      <td>RealSkipBayless</td>\n",
       "      <td>[  43   10 2021]</td>\n",
       "      <td>Russ (naturally) missed all three of his shots...</td>\n",
       "      <td>51</td>\n",
       "      <td>22</td>\n",
       "      <td>525</td>\n",
       "    </tr>\n",
       "    <tr>\n",
       "      <th>4</th>\n",
       "      <td>RealSkipBayless</td>\n",
       "      <td>[  43   10 2021]</td>\n",
       "      <td>Lakers are on a 25-7 run fueled by defense, fa...</td>\n",
       "      <td>31</td>\n",
       "      <td>30</td>\n",
       "      <td>499</td>\n",
       "    </tr>\n",
       "  </tbody>\n",
       "</table>\n",
       "</div>"
      ],
      "text/plain": [
       "              user              date  \\\n",
       "0  RealSkipBayless  [  43   10 2021]   \n",
       "1  RealSkipBayless  [  43   10 2021]   \n",
       "2  RealSkipBayless  [  43   10 2021]   \n",
       "3  RealSkipBayless  [  43   10 2021]   \n",
       "4  RealSkipBayless  [  43   10 2021]   \n",
       "\n",
       "                                             content  replyCount  \\\n",
       "0  Ja Morant is putting on a SHOW out here in Hol...           0   \n",
       "1  Lakers look by far the best they've looked by ...          55   \n",
       "2  LeBron gets rolled up on, grimaces while he st...         107   \n",
       "3  Russ (naturally) missed all three of his shots...          51   \n",
       "4  Lakers are on a 25-7 run fueled by defense, fa...          31   \n",
       "\n",
       "   retweetCount  likeCount  \n",
       "0             0          0  \n",
       "1            16        499  \n",
       "2           101       1488  \n",
       "3            22        525  \n",
       "4            30        499  "
      ]
     },
     "execution_count": 13,
     "metadata": {},
     "output_type": "execute_result"
    }
   ],
   "source": [
    "import pandas as pd\n",
    "import numpy as np\n",
    "import re\n",
    "import json\n",
    "\n",
    "username = \"RealSkipBayless\"\n",
    "tweets_df = pd.read_csv('../cleaned-data/user-{}-tweets-cleaned.csv'.format(username))\n",
    "\n",
    "# Displays first 5 entries from dataframe\n",
    "tweets_df.head()"
   ]
  },
  {
   "cell_type": "code",
   "execution_count": 14,
   "metadata": {},
   "outputs": [],
   "source": [
    "# read files and concat -> contents_concat\n",
    "usernames = ['RealSkipBayless', 'ShannonSharpe', 'PatMcAfeeShow', 'stephenasmith', 'maxkellerman']\n",
    "\n",
    "li = []\n",
    "\n",
    "for username in usernames:\n",
    "    tweets_df = pd.read_csv('../cleaned-data/user-{}-tweets-cleaned.csv'.format(username))\n",
    "    li.append(tweets_df)\n",
    "\n",
    "tweets_concat = pd.concat(li, axis=0, ignore_index=True)\n",
    "\n",
    "contents_concat = tweets_concat.loc[:,\"content\"]"
   ]
  },
  {
   "cell_type": "code",
   "execution_count": 15,
   "metadata": {},
   "outputs": [],
   "source": [
    "# count word frequency -> freq\n",
    "contents_concat[0].lower()\n",
    "\n",
    "freq = {}\n",
    "\n",
    "for content in contents_concat:\n",
    "    text_string = str(content).lower()\n",
    "    match_pattern = re.findall(r'\\b[a-z]{3,15}\\b', text_string)\n",
    "    for word in match_pattern:\n",
    "        count = freq.get(word,0)\n",
    "        freq[word] = count + 1"
   ]
  },
  {
   "cell_type": "code",
   "execution_count": 16,
   "metadata": {},
   "outputs": [],
   "source": [
    "# filter stop words\n",
    "stopwords = set(\"i,me,my,myself,we,us,our,ours,ourselves,you,your,yours,yourself,yourselves,he,him,his,himself,she,her,hers,herself,it,its,itself,they,them,their,theirs,themselves,what,which,who,whom,whose,this,that,these,those,am,is,are,was,were,be,been,being,have,has,had,having,do,does,did,doing,will,would,should,can,could,ought,i'm,you're,he's,she's,it's,we're,they're,i've,you've,we've,they've,i'd,you'd,he'd,she'd,we'd,they'd,i'll,you'll,he'll,she'll,we'll,they'll,isn't,aren't,wasn't,weren't,hasn't,haven't,hadn't,doesn't,don't,didn't,won't,wouldn't,shan't,shouldn't,can't,cannot,couldn't,mustn't,let's,that's,who's,what's,here's,there's,when's,where's,why's,how's,a,an,the,and,but,if,or,because,as,until,while,of,at,by,for,with,about,against,between,into,through,during,before,after,above,below,to,from,up,upon,down,in,out,on,off,over,under,again,further,then,once,here,there,when,where,why,how,all,any,both,each,few,more,most,other,some,such,no,nor,not,only,own,same,so,than,too,very,say,says,said,shall\".split(\",\"))\n",
    "\n",
    "for key in set(freq.keys()):\n",
    "    if key in stopwords:\n",
    "        freq.pop(key)"
   ]
  },
  {
   "cell_type": "code",
   "execution_count": 17,
   "metadata": {},
   "outputs": [
    {
     "data": {
      "text/plain": [
       "[('shannonsharpe', 78190),\n",
       " ('https', 72582),\n",
       " ('http', 50884),\n",
       " ('just', 19961),\n",
       " ('now', 19040)]"
      ]
     },
     "execution_count": 17,
     "metadata": {},
     "output_type": "execute_result"
    }
   ],
   "source": [
    "# sort frequency map -> 2d array\n",
    "freq_sorted = sorted(freq.items(), key = lambda kv:(kv[1]), reverse = True)\n",
    "freq_sorted[0:5]"
   ]
  },
  {
   "cell_type": "code",
   "execution_count": 18,
   "metadata": {},
   "outputs": [],
   "source": [
    "# list->json\n",
    "freq_sorted_json = json.dumps(freq_sorted[0:100])\n",
    "f = open(\"word-freq-sorted.json\", \"w\")\n",
    "f.write(freq_sorted_json)\n",
    "f.close()"
   ]
  },
  {
   "cell_type": "code",
   "execution_count": 19,
   "metadata": {},
   "outputs": [],
   "source": [
    "# # list->dict->json\n",
    "freq_sorted_dict = []\n",
    "\n",
    "for i in freq_sorted:\n",
    "    ele = {}\n",
    "    ele[\"text\"] = i[0]\n",
    "    ele[\"value\"] = i[1]\n",
    "    freq_sorted_dict.append(ele)\n",
    "\n",
    "freq_sorted_dict_json = json.dumps(freq_sorted_dict[0:100])\n",
    "f = open(\"word-freq-sorted-full.json\", \"w\")\n",
    "f.write(freq_sorted_dict_json)\n",
    "f.close()"
   ]
  }
 ],
 "metadata": {
  "interpreter": {
   "hash": "aee8b7b246df8f9039afb4144a1f6fd8d2ca17a180786b69acc140d282b71a49"
  },
  "kernelspec": {
   "display_name": "Python 3.10.0 64-bit",
   "name": "python3"
  },
  "language_info": {
   "codemirror_mode": {
    "name": "ipython",
    "version": 3
   },
   "file_extension": ".py",
   "mimetype": "text/x-python",
   "name": "python",
   "nbconvert_exporter": "python",
   "pygments_lexer": "ipython3",
   "version": "3.10.0"
  },
  "orig_nbformat": 4
 },
 "nbformat": 4,
 "nbformat_minor": 2
}
