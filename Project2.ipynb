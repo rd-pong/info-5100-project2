{
 "cells": [
  {
   "cell_type": "code",
   "execution_count": 2,
   "metadata": {},
   "outputs": [],
   "source": [
    "import os\n",
    "import pandas as pd"
   ]
  },
  {
   "cell_type": "code",
   "execution_count": 11,
   "metadata": {},
   "outputs": [
    {
     "data": {
      "text/plain": [
       "0"
      ]
     },
     "execution_count": 11,
     "metadata": {},
     "output_type": "execute_result"
    }
   ],
   "source": [
    "# Reference: https://betterprogramming.pub/how-to-scrape-tweets-with-snscrape-90124ed006af\n",
    "# Setting variables to be used in format string command below\n",
    "tweet_count = 1000000\n",
    "username = \"PatMcAfeeShow\"\n",
    "\n",
    "# Using OS library to call CLI commands in Python\n",
    "os.system(\"snscrape --jsonl --max-results {} twitter-search 'from:{}'> user-{}-tweets.json\".format(tweet_count, username, username))"
   ]
  },
  {
   "cell_type": "code",
   "execution_count": 12,
   "metadata": {},
   "outputs": [
    {
     "data": {
      "text/html": [
       "<div>\n",
       "<style scoped>\n",
       "    .dataframe tbody tr th:only-of-type {\n",
       "        vertical-align: middle;\n",
       "    }\n",
       "\n",
       "    .dataframe tbody tr th {\n",
       "        vertical-align: top;\n",
       "    }\n",
       "\n",
       "    .dataframe thead th {\n",
       "        text-align: right;\n",
       "    }\n",
       "</style>\n",
       "<table border=\"1\" class=\"dataframe\">\n",
       "  <thead>\n",
       "    <tr style=\"text-align: right;\">\n",
       "      <th></th>\n",
       "      <th>_type</th>\n",
       "      <th>url</th>\n",
       "      <th>date</th>\n",
       "      <th>content</th>\n",
       "      <th>renderedContent</th>\n",
       "      <th>id</th>\n",
       "      <th>user</th>\n",
       "      <th>replyCount</th>\n",
       "      <th>retweetCount</th>\n",
       "      <th>likeCount</th>\n",
       "      <th>...</th>\n",
       "      <th>media</th>\n",
       "      <th>retweetedTweet</th>\n",
       "      <th>quotedTweet</th>\n",
       "      <th>inReplyToTweetId</th>\n",
       "      <th>inReplyToUser</th>\n",
       "      <th>mentionedUsers</th>\n",
       "      <th>coordinates</th>\n",
       "      <th>place</th>\n",
       "      <th>hashtags</th>\n",
       "      <th>cashtags</th>\n",
       "    </tr>\n",
       "  </thead>\n",
       "  <tbody>\n",
       "    <tr>\n",
       "      <td>0</td>\n",
       "      <td>snscrape.modules.twitter.Tweet</td>\n",
       "      <td>https://twitter.com/PatMcAfeeShow/status/14524...</td>\n",
       "      <td>2021-10-25 02:09:43+00:00</td>\n",
       "      <td>Felt like some reeeeall fuckery from Shanahan ...</td>\n",
       "      <td>Felt like some reeeeall fuckery from Shanahan ...</td>\n",
       "      <td>1452457314280222723</td>\n",
       "      <td>{'_type': 'snscrape.modules.twitter.User', 'us...</td>\n",
       "      <td>79</td>\n",
       "      <td>87</td>\n",
       "      <td>2875</td>\n",
       "      <td>...</td>\n",
       "      <td>None</td>\n",
       "      <td>NaN</td>\n",
       "      <td>None</td>\n",
       "      <td>NaN</td>\n",
       "      <td>None</td>\n",
       "      <td>None</td>\n",
       "      <td>None</td>\n",
       "      <td>None</td>\n",
       "      <td>None</td>\n",
       "      <td>None</td>\n",
       "    </tr>\n",
       "    <tr>\n",
       "      <td>1</td>\n",
       "      <td>snscrape.modules.twitter.Tweet</td>\n",
       "      <td>https://twitter.com/PatMcAfeeShow/status/14524...</td>\n",
       "      <td>2021-10-25 01:44:26+00:00</td>\n",
       "      <td>Let’s goooo CARSON</td>\n",
       "      <td>Let’s goooo CARSON</td>\n",
       "      <td>1452450949486755840</td>\n",
       "      <td>{'_type': 'snscrape.modules.twitter.User', 'us...</td>\n",
       "      <td>55</td>\n",
       "      <td>42</td>\n",
       "      <td>1810</td>\n",
       "      <td>...</td>\n",
       "      <td>None</td>\n",
       "      <td>NaN</td>\n",
       "      <td>None</td>\n",
       "      <td>NaN</td>\n",
       "      <td>None</td>\n",
       "      <td>None</td>\n",
       "      <td>None</td>\n",
       "      <td>None</td>\n",
       "      <td>None</td>\n",
       "      <td>None</td>\n",
       "    </tr>\n",
       "    <tr>\n",
       "      <td>2</td>\n",
       "      <td>snscrape.modules.twitter.Tweet</td>\n",
       "      <td>https://twitter.com/PatMcAfeeShow/status/14524...</td>\n",
       "      <td>2021-10-25 01:38:09+00:00</td>\n",
       "      <td>Hey… it’s real\\n\\n@dsleon45 has precision jabs...</td>\n",
       "      <td>Hey… it’s real\\n\\n@dsleon45 has precision jabs...</td>\n",
       "      <td>1452449368443850753</td>\n",
       "      <td>{'_type': 'snscrape.modules.twitter.User', 'us...</td>\n",
       "      <td>20</td>\n",
       "      <td>94</td>\n",
       "      <td>1226</td>\n",
       "      <td>...</td>\n",
       "      <td>[{'_type': 'snscrape.modules.twitter.Gif', 'th...</td>\n",
       "      <td>NaN</td>\n",
       "      <td>None</td>\n",
       "      <td>NaN</td>\n",
       "      <td>None</td>\n",
       "      <td>[{'_type': 'snscrape.modules.twitter.User', 'u...</td>\n",
       "      <td>None</td>\n",
       "      <td>None</td>\n",
       "      <td>None</td>\n",
       "      <td>None</td>\n",
       "    </tr>\n",
       "    <tr>\n",
       "      <td>3</td>\n",
       "      <td>snscrape.modules.twitter.Tweet</td>\n",
       "      <td>https://twitter.com/PatMcAfeeShow/status/14524...</td>\n",
       "      <td>2021-10-25 01:24:33+00:00</td>\n",
       "      <td>Thank you for trying to score @Rigojio88</td>\n",
       "      <td>Thank you for trying to score @Rigojio88</td>\n",
       "      <td>1452445947410190341</td>\n",
       "      <td>{'_type': 'snscrape.modules.twitter.User', 'us...</td>\n",
       "      <td>46</td>\n",
       "      <td>21</td>\n",
       "      <td>1005</td>\n",
       "      <td>...</td>\n",
       "      <td>None</td>\n",
       "      <td>NaN</td>\n",
       "      <td>None</td>\n",
       "      <td>NaN</td>\n",
       "      <td>None</td>\n",
       "      <td>[{'_type': 'snscrape.modules.twitter.User', 'u...</td>\n",
       "      <td>None</td>\n",
       "      <td>None</td>\n",
       "      <td>None</td>\n",
       "      <td>None</td>\n",
       "    </tr>\n",
       "    <tr>\n",
       "      <td>4</td>\n",
       "      <td>snscrape.modules.twitter.Tweet</td>\n",
       "      <td>https://twitter.com/PatMcAfeeShow/status/14524...</td>\n",
       "      <td>2021-10-25 01:07:05+00:00</td>\n",
       "      <td>Carson just Carson’d so hard I can’t handle it</td>\n",
       "      <td>Carson just Carson’d so hard I can’t handle it</td>\n",
       "      <td>1452441549191667712</td>\n",
       "      <td>{'_type': 'snscrape.modules.twitter.User', 'us...</td>\n",
       "      <td>228</td>\n",
       "      <td>365</td>\n",
       "      <td>8696</td>\n",
       "      <td>...</td>\n",
       "      <td>None</td>\n",
       "      <td>NaN</td>\n",
       "      <td>None</td>\n",
       "      <td>NaN</td>\n",
       "      <td>None</td>\n",
       "      <td>None</td>\n",
       "      <td>None</td>\n",
       "      <td>None</td>\n",
       "      <td>None</td>\n",
       "      <td>None</td>\n",
       "    </tr>\n",
       "  </tbody>\n",
       "</table>\n",
       "<p>5 rows × 28 columns</p>\n",
       "</div>"
      ],
      "text/plain": [
       "                            _type  \\\n",
       "0  snscrape.modules.twitter.Tweet   \n",
       "1  snscrape.modules.twitter.Tweet   \n",
       "2  snscrape.modules.twitter.Tweet   \n",
       "3  snscrape.modules.twitter.Tweet   \n",
       "4  snscrape.modules.twitter.Tweet   \n",
       "\n",
       "                                                 url  \\\n",
       "0  https://twitter.com/PatMcAfeeShow/status/14524...   \n",
       "1  https://twitter.com/PatMcAfeeShow/status/14524...   \n",
       "2  https://twitter.com/PatMcAfeeShow/status/14524...   \n",
       "3  https://twitter.com/PatMcAfeeShow/status/14524...   \n",
       "4  https://twitter.com/PatMcAfeeShow/status/14524...   \n",
       "\n",
       "                       date  \\\n",
       "0 2021-10-25 02:09:43+00:00   \n",
       "1 2021-10-25 01:44:26+00:00   \n",
       "2 2021-10-25 01:38:09+00:00   \n",
       "3 2021-10-25 01:24:33+00:00   \n",
       "4 2021-10-25 01:07:05+00:00   \n",
       "\n",
       "                                             content  \\\n",
       "0  Felt like some reeeeall fuckery from Shanahan ...   \n",
       "1                                 Let’s goooo CARSON   \n",
       "2  Hey… it’s real\\n\\n@dsleon45 has precision jabs...   \n",
       "3           Thank you for trying to score @Rigojio88   \n",
       "4     Carson just Carson’d so hard I can’t handle it   \n",
       "\n",
       "                                     renderedContent                   id  \\\n",
       "0  Felt like some reeeeall fuckery from Shanahan ...  1452457314280222723   \n",
       "1                                 Let’s goooo CARSON  1452450949486755840   \n",
       "2  Hey… it’s real\\n\\n@dsleon45 has precision jabs...  1452449368443850753   \n",
       "3           Thank you for trying to score @Rigojio88  1452445947410190341   \n",
       "4     Carson just Carson’d so hard I can’t handle it  1452441549191667712   \n",
       "\n",
       "                                                user  replyCount  \\\n",
       "0  {'_type': 'snscrape.modules.twitter.User', 'us...          79   \n",
       "1  {'_type': 'snscrape.modules.twitter.User', 'us...          55   \n",
       "2  {'_type': 'snscrape.modules.twitter.User', 'us...          20   \n",
       "3  {'_type': 'snscrape.modules.twitter.User', 'us...          46   \n",
       "4  {'_type': 'snscrape.modules.twitter.User', 'us...         228   \n",
       "\n",
       "   retweetCount  likeCount  ...  \\\n",
       "0            87       2875  ...   \n",
       "1            42       1810  ...   \n",
       "2            94       1226  ...   \n",
       "3            21       1005  ...   \n",
       "4           365       8696  ...   \n",
       "\n",
       "                                               media  retweetedTweet  \\\n",
       "0                                               None             NaN   \n",
       "1                                               None             NaN   \n",
       "2  [{'_type': 'snscrape.modules.twitter.Gif', 'th...             NaN   \n",
       "3                                               None             NaN   \n",
       "4                                               None             NaN   \n",
       "\n",
       "  quotedTweet inReplyToTweetId inReplyToUser  \\\n",
       "0        None              NaN          None   \n",
       "1        None              NaN          None   \n",
       "2        None              NaN          None   \n",
       "3        None              NaN          None   \n",
       "4        None              NaN          None   \n",
       "\n",
       "                                      mentionedUsers coordinates place  \\\n",
       "0                                               None        None  None   \n",
       "1                                               None        None  None   \n",
       "2  [{'_type': 'snscrape.modules.twitter.User', 'u...        None  None   \n",
       "3  [{'_type': 'snscrape.modules.twitter.User', 'u...        None  None   \n",
       "4                                               None        None  None   \n",
       "\n",
       "  hashtags  cashtags  \n",
       "0     None      None  \n",
       "1     None      None  \n",
       "2     None      None  \n",
       "3     None      None  \n",
       "4     None      None  \n",
       "\n",
       "[5 rows x 28 columns]"
      ]
     },
     "execution_count": 12,
     "metadata": {},
     "output_type": "execute_result"
    }
   ],
   "source": [
    "# Reads the json generated from the CLI command above and creates a pandas dataframe\n",
    "tweets_df = pd.read_json('user-{}-tweets.json'.format(username), lines=True)\n",
    "\n",
    "# Displays first 5 entries from dataframe\n",
    "tweets_df.head()"
   ]
  },
  {
   "cell_type": "code",
   "execution_count": 13,
   "metadata": {},
   "outputs": [
    {
     "data": {
      "text/plain": [
       "(67721, 28)"
      ]
     },
     "execution_count": 13,
     "metadata": {},
     "output_type": "execute_result"
    }
   ],
   "source": [
    "tweets_df.shape"
   ]
  },
  {
   "cell_type": "code",
   "execution_count": 14,
   "metadata": {},
   "outputs": [],
   "source": [
    "arr = tweets_df.to_numpy()"
   ]
  },
  {
   "cell_type": "code",
   "execution_count": null,
   "metadata": {},
   "outputs": [],
   "source": [
    "arr2 = tweets_df2.to_numpy()"
   ]
  },
  {
   "cell_type": "code",
   "execution_count": null,
   "metadata": {},
   "outputs": [],
   "source": [
    "index = 0\n",
    "num = 3\n",
    "print(arr[index][num], arr[index][num+1])"
   ]
  },
  {
   "cell_type": "code",
   "execution_count": 8,
   "metadata": {},
   "outputs": [],
   "source": [
    "def getPercentage(arr, textIndex, phrase):\n",
    "    count = 0\n",
    "    for val in arr:\n",
    "        if phrase in val[textIndex].lower():\n",
    "            count += 1\n",
    "    return count * 100 / len(arr)"
   ]
  },
  {
   "cell_type": "code",
   "execution_count": 15,
   "metadata": {},
   "outputs": [
    {
     "name": "stdout",
     "output_type": "stream",
     "text": [
      "0.11222515910869597\n"
     ]
    }
   ],
   "source": [
    "print(getPercentage(arr, 3, 'lebron'))"
   ]
  },
  {
   "cell_type": "code",
   "execution_count": null,
   "metadata": {},
   "outputs": [],
   "source": [
    "print(getPercentage(arr2, 3, 'lebron'))"
   ]
  },
  {
   "cell_type": "code",
   "execution_count": 16,
   "metadata": {},
   "outputs": [
    {
     "data": {
      "text/plain": [
       "2010"
      ]
     },
     "execution_count": 16,
     "metadata": {},
     "output_type": "execute_result"
    }
   ],
   "source": [
    "arr[-1][2].year"
   ]
  },
  {
   "cell_type": "code",
   "execution_count": 18,
   "metadata": {},
   "outputs": [
    {
     "data": {
      "text/plain": [
       "Index(['_type', 'url', 'date', 'content', 'renderedContent', 'id', 'user',\n",
       "       'replyCount', 'retweetCount', 'likeCount', 'quoteCount',\n",
       "       'conversationId', 'lang', 'source', 'sourceUrl', 'sourceLabel',\n",
       "       'outlinks', 'tcooutlinks', 'media', 'retweetedTweet', 'quotedTweet',\n",
       "       'inReplyToTweetId', 'inReplyToUser', 'mentionedUsers', 'coordinates',\n",
       "       'place', 'hashtags', 'cashtags'],\n",
       "      dtype='object')"
      ]
     },
     "execution_count": 18,
     "metadata": {},
     "output_type": "execute_result"
    }
   ],
   "source": [
    "tweets_df.columns"
   ]
  },
  {
   "cell_type": "code",
   "execution_count": null,
   "metadata": {},
   "outputs": [],
   "source": []
  }
 ],
 "metadata": {
  "kernelspec": {
   "display_name": "Python 3",
   "language": "python",
   "name": "python3"
  },
  "language_info": {
   "codemirror_mode": {
    "name": "ipython",
    "version": 3
   },
   "file_extension": ".py",
   "mimetype": "text/x-python",
   "name": "python",
   "nbconvert_exporter": "python",
   "pygments_lexer": "ipython3",
   "version": "3.6.5"
  }
 },
 "nbformat": 4,
 "nbformat_minor": 2
}
