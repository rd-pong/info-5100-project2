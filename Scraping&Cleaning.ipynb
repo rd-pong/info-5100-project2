{
 "cells": [
  {
   "cell_type": "code",
   "execution_count": 16,
   "metadata": {},
   "outputs": [],
   "source": [
    "import os\n",
    "import pandas as pd\n",
    "import numpy as np\n",
    "import random\n",
    "import json"
   ]
  },
  {
   "cell_type": "code",
   "execution_count": 3,
   "metadata": {},
   "outputs": [],
   "source": [
    "# Twitter Followers:\n",
    "def getFollowers(username):\n",
    "    os.system(\"snscrape --jsonl --max-results {} twitter-search 'from:{}'> data/example-tweets.json\".format(1, username))\n",
    "    \n",
    "    followers = pd.read_json('data/example-tweets.json'.format(username), lines=True).to_numpy()[0][6]['followersCount']\n",
    "    return [username, followers]"
   ]
  },
  {
   "cell_type": "code",
   "execution_count": 4,
   "metadata": {},
   "outputs": [
    {
     "data": {
      "text/html": [
       "<div>\n",
       "<style scoped>\n",
       "    .dataframe tbody tr th:only-of-type {\n",
       "        vertical-align: middle;\n",
       "    }\n",
       "\n",
       "    .dataframe tbody tr th {\n",
       "        vertical-align: top;\n",
       "    }\n",
       "\n",
       "    .dataframe thead th {\n",
       "        text-align: right;\n",
       "    }\n",
       "</style>\n",
       "<table border=\"1\" class=\"dataframe\">\n",
       "  <thead>\n",
       "    <tr style=\"text-align: right;\">\n",
       "      <th></th>\n",
       "      <th>Username</th>\n",
       "      <th>Follower_Count</th>\n",
       "    </tr>\n",
       "  </thead>\n",
       "  <tbody>\n",
       "    <tr>\n",
       "      <td>0</td>\n",
       "      <td>RealSkipBayless</td>\n",
       "      <td>3051616</td>\n",
       "    </tr>\n",
       "    <tr>\n",
       "      <td>1</td>\n",
       "      <td>ShannonSharpe</td>\n",
       "      <td>1539628</td>\n",
       "    </tr>\n",
       "    <tr>\n",
       "      <td>2</td>\n",
       "      <td>PatMcAfeeShow</td>\n",
       "      <td>2162963</td>\n",
       "    </tr>\n",
       "    <tr>\n",
       "      <td>3</td>\n",
       "      <td>stephenasmith</td>\n",
       "      <td>5504684</td>\n",
       "    </tr>\n",
       "    <tr>\n",
       "      <td>4</td>\n",
       "      <td>maxkellerman</td>\n",
       "      <td>675973</td>\n",
       "    </tr>\n",
       "  </tbody>\n",
       "</table>\n",
       "</div>"
      ],
      "text/plain": [
       "          Username  Follower_Count\n",
       "0  RealSkipBayless         3051616\n",
       "1    ShannonSharpe         1539628\n",
       "2    PatMcAfeeShow         2162963\n",
       "3    stephenasmith         5504684\n",
       "4     maxkellerman          675973"
      ]
     },
     "execution_count": 4,
     "metadata": {},
     "output_type": "execute_result"
    }
   ],
   "source": [
    "usernames = ['RealSkipBayless', 'ShannonSharpe', 'PatMcAfeeShow', 'stephenasmith', 'maxkellerman',\n",
    "            'EmmaWatson', 'AnnaKendrick47', 'VancityReynolds', 'Matt_Leblanc', 'RobertDowneyJr',\n",
    "            'KingJames', 'KDTrey5', 'Giannis_An34', 'StephenCurry30', 'JoelEmbiid', 'steveaoki',\n",
    "            'CousinStizz', 'trvisXX', 'justinbieber', 'ladygaga', 'mcuban', 'travisk', 'ev', \n",
    "            'ariannahuff', 'TonyRobbins', 'Jsipple', 'informor', 'soumitradutta', \n",
    "            'DrMaureenHanson', 'GeoffreyWCoates']\n",
    "\n",
    "outputArr = []\n",
    "\n",
    "for username in usernames:\n",
    "    output = getFollowers(username)\n",
    "    outputArr.append([output[0], output[1]])\n",
    "\n",
    "df = pd.DataFrame(data = outputArr, columns = ['Username', 'Follower_Count'])\n",
    "df.to_csv('data/user-followers.csv', index = False)\n",
    "df.head()"
   ]
  },
  {
   "cell_type": "code",
   "execution_count": 163,
   "metadata": {},
   "outputs": [
    {
     "data": {
      "text/plain": [
       "0"
      ]
     },
     "execution_count": 163,
     "metadata": {},
     "output_type": "execute_result"
    }
   ],
   "source": [
    "# Reference: https://betterprogramming.pub/how-to-scrape-tweets-with-snscrape-90124ed006af\n",
    "# Setting variables to be used in format string command below\n",
    "tweet_count = 1000000\n",
    "\n",
    "username = \"GeoffreyWCoates\"\n",
    "\n",
    "# Using OS library to call CLI commands in Python\n",
    "os.system(\"snscrape --jsonl --max-results {} twitter-search 'from:{}'> data/user-{}-tweets.json\".format(tweet_count, username, username))"
   ]
  },
  {
   "cell_type": "code",
   "execution_count": 164,
   "metadata": {
    "scrolled": false
   },
   "outputs": [
    {
     "data": {
      "text/html": [
       "<div>\n",
       "<style scoped>\n",
       "    .dataframe tbody tr th:only-of-type {\n",
       "        vertical-align: middle;\n",
       "    }\n",
       "\n",
       "    .dataframe tbody tr th {\n",
       "        vertical-align: top;\n",
       "    }\n",
       "\n",
       "    .dataframe thead th {\n",
       "        text-align: right;\n",
       "    }\n",
       "</style>\n",
       "<table border=\"1\" class=\"dataframe\">\n",
       "  <thead>\n",
       "    <tr style=\"text-align: right;\">\n",
       "      <th></th>\n",
       "      <th>_type</th>\n",
       "      <th>url</th>\n",
       "      <th>date</th>\n",
       "      <th>content</th>\n",
       "      <th>renderedContent</th>\n",
       "      <th>id</th>\n",
       "      <th>user</th>\n",
       "      <th>replyCount</th>\n",
       "      <th>retweetCount</th>\n",
       "      <th>likeCount</th>\n",
       "      <th>...</th>\n",
       "      <th>media</th>\n",
       "      <th>retweetedTweet</th>\n",
       "      <th>quotedTweet</th>\n",
       "      <th>inReplyToTweetId</th>\n",
       "      <th>inReplyToUser</th>\n",
       "      <th>mentionedUsers</th>\n",
       "      <th>coordinates</th>\n",
       "      <th>place</th>\n",
       "      <th>hashtags</th>\n",
       "      <th>cashtags</th>\n",
       "    </tr>\n",
       "  </thead>\n",
       "  <tbody>\n",
       "    <tr>\n",
       "      <td>0</td>\n",
       "      <td>snscrape.modules.twitter.Tweet</td>\n",
       "      <td>https://twitter.com/GeoffreyWCoates/status/144...</td>\n",
       "      <td>2021-10-15 19:31:11+00:00</td>\n",
       "      <td>@j_a_byers @TheCoatesCrew @NESACS Thanks, Jeff...</td>\n",
       "      <td>@j_a_byers @TheCoatesCrew @NESACS Thanks, Jeff...</td>\n",
       "      <td>1449095527526699013</td>\n",
       "      <td>{'_type': 'snscrape.modules.twitter.User', 'us...</td>\n",
       "      <td>0</td>\n",
       "      <td>0</td>\n",
       "      <td>4</td>\n",
       "      <td>...</td>\n",
       "      <td>None</td>\n",
       "      <td>NaN</td>\n",
       "      <td>None</td>\n",
       "      <td>1.449012e+18</td>\n",
       "      <td>{'_type': 'snscrape.modules.twitter.User', 'us...</td>\n",
       "      <td>[{'_type': 'snscrape.modules.twitter.User', 'u...</td>\n",
       "      <td>NaN</td>\n",
       "      <td>NaN</td>\n",
       "      <td>None</td>\n",
       "      <td>NaN</td>\n",
       "    </tr>\n",
       "    <tr>\n",
       "      <td>1</td>\n",
       "      <td>snscrape.modules.twitter.Tweet</td>\n",
       "      <td>https://twitter.com/GeoffreyWCoates/status/144...</td>\n",
       "      <td>2021-10-06 21:02:06+00:00</td>\n",
       "      <td>Awesome work, @James_M_Eagan! https://t.co/3pJ...</td>\n",
       "      <td>Awesome work, @James_M_Eagan! twitter.com/Jame...</td>\n",
       "      <td>1445856918778511372</td>\n",
       "      <td>{'_type': 'snscrape.modules.twitter.User', 'us...</td>\n",
       "      <td>0</td>\n",
       "      <td>0</td>\n",
       "      <td>7</td>\n",
       "      <td>...</td>\n",
       "      <td>None</td>\n",
       "      <td>NaN</td>\n",
       "      <td>{'_type': 'snscrape.modules.twitter.Tweet', 'u...</td>\n",
       "      <td>NaN</td>\n",
       "      <td>None</td>\n",
       "      <td>[{'_type': 'snscrape.modules.twitter.User', 'u...</td>\n",
       "      <td>NaN</td>\n",
       "      <td>NaN</td>\n",
       "      <td>None</td>\n",
       "      <td>NaN</td>\n",
       "    </tr>\n",
       "    <tr>\n",
       "      <td>2</td>\n",
       "      <td>snscrape.modules.twitter.Tweet</td>\n",
       "      <td>https://twitter.com/GeoffreyWCoates/status/144...</td>\n",
       "      <td>2021-09-23 22:59:27+00:00</td>\n",
       "      <td>⁦@Cornell⁩ looking 🤩 this evening! https://t.c...</td>\n",
       "      <td>⁦@Cornell⁩ looking 🤩 this evening! https://t.c...</td>\n",
       "      <td>1441175406229458945</td>\n",
       "      <td>{'_type': 'snscrape.modules.twitter.User', 'us...</td>\n",
       "      <td>4</td>\n",
       "      <td>31</td>\n",
       "      <td>654</td>\n",
       "      <td>...</td>\n",
       "      <td>[{'_type': 'snscrape.modules.twitter.Photo', '...</td>\n",
       "      <td>NaN</td>\n",
       "      <td>None</td>\n",
       "      <td>NaN</td>\n",
       "      <td>None</td>\n",
       "      <td>[{'_type': 'snscrape.modules.twitter.User', 'u...</td>\n",
       "      <td>NaN</td>\n",
       "      <td>NaN</td>\n",
       "      <td>None</td>\n",
       "      <td>NaN</td>\n",
       "    </tr>\n",
       "    <tr>\n",
       "      <td>3</td>\n",
       "      <td>snscrape.modules.twitter.Tweet</td>\n",
       "      <td>https://twitter.com/GeoffreyWCoates/status/144...</td>\n",
       "      <td>2021-09-22 17:51:25+00:00</td>\n",
       "      <td>⁦@TheCoatesCrew⁩ chemistry goes to a new stage...</td>\n",
       "      <td>⁦@TheCoatesCrew⁩ chemistry goes to a new stage...</td>\n",
       "      <td>1440735499514040324</td>\n",
       "      <td>{'_type': 'snscrape.modules.twitter.User', 'us...</td>\n",
       "      <td>1</td>\n",
       "      <td>9</td>\n",
       "      <td>98</td>\n",
       "      <td>...</td>\n",
       "      <td>None</td>\n",
       "      <td>NaN</td>\n",
       "      <td>None</td>\n",
       "      <td>NaN</td>\n",
       "      <td>None</td>\n",
       "      <td>[{'_type': 'snscrape.modules.twitter.User', 'u...</td>\n",
       "      <td>NaN</td>\n",
       "      <td>NaN</td>\n",
       "      <td>None</td>\n",
       "      <td>NaN</td>\n",
       "    </tr>\n",
       "    <tr>\n",
       "      <td>4</td>\n",
       "      <td>snscrape.modules.twitter.Tweet</td>\n",
       "      <td>https://twitter.com/GeoffreyWCoates/status/143...</td>\n",
       "      <td>2021-09-09 17:16:28+00:00</td>\n",
       "      <td>Ha - thanks Paul! https://t.co/Abi0wLd3PL http...</td>\n",
       "      <td>Ha - thanks Paul! chrisjordan.com/gallery/rtn/...</td>\n",
       "      <td>1436015662179098650</td>\n",
       "      <td>{'_type': 'snscrape.modules.twitter.User', 'us...</td>\n",
       "      <td>0</td>\n",
       "      <td>0</td>\n",
       "      <td>6</td>\n",
       "      <td>...</td>\n",
       "      <td>None</td>\n",
       "      <td>NaN</td>\n",
       "      <td>{'_type': 'snscrape.modules.twitter.Tweet', 'u...</td>\n",
       "      <td>NaN</td>\n",
       "      <td>None</td>\n",
       "      <td>None</td>\n",
       "      <td>NaN</td>\n",
       "      <td>NaN</td>\n",
       "      <td>None</td>\n",
       "      <td>NaN</td>\n",
       "    </tr>\n",
       "  </tbody>\n",
       "</table>\n",
       "<p>5 rows × 28 columns</p>\n",
       "</div>"
      ],
      "text/plain": [
       "                            _type  \\\n",
       "0  snscrape.modules.twitter.Tweet   \n",
       "1  snscrape.modules.twitter.Tweet   \n",
       "2  snscrape.modules.twitter.Tweet   \n",
       "3  snscrape.modules.twitter.Tweet   \n",
       "4  snscrape.modules.twitter.Tweet   \n",
       "\n",
       "                                                 url  \\\n",
       "0  https://twitter.com/GeoffreyWCoates/status/144...   \n",
       "1  https://twitter.com/GeoffreyWCoates/status/144...   \n",
       "2  https://twitter.com/GeoffreyWCoates/status/144...   \n",
       "3  https://twitter.com/GeoffreyWCoates/status/144...   \n",
       "4  https://twitter.com/GeoffreyWCoates/status/143...   \n",
       "\n",
       "                       date  \\\n",
       "0 2021-10-15 19:31:11+00:00   \n",
       "1 2021-10-06 21:02:06+00:00   \n",
       "2 2021-09-23 22:59:27+00:00   \n",
       "3 2021-09-22 17:51:25+00:00   \n",
       "4 2021-09-09 17:16:28+00:00   \n",
       "\n",
       "                                             content  \\\n",
       "0  @j_a_byers @TheCoatesCrew @NESACS Thanks, Jeff...   \n",
       "1  Awesome work, @James_M_Eagan! https://t.co/3pJ...   \n",
       "2  ⁦@Cornell⁩ looking 🤩 this evening! https://t.c...   \n",
       "3  ⁦@TheCoatesCrew⁩ chemistry goes to a new stage...   \n",
       "4  Ha - thanks Paul! https://t.co/Abi0wLd3PL http...   \n",
       "\n",
       "                                     renderedContent                   id  \\\n",
       "0  @j_a_byers @TheCoatesCrew @NESACS Thanks, Jeff...  1449095527526699013   \n",
       "1  Awesome work, @James_M_Eagan! twitter.com/Jame...  1445856918778511372   \n",
       "2  ⁦@Cornell⁩ looking 🤩 this evening! https://t.c...  1441175406229458945   \n",
       "3  ⁦@TheCoatesCrew⁩ chemistry goes to a new stage...  1440735499514040324   \n",
       "4  Ha - thanks Paul! chrisjordan.com/gallery/rtn/...  1436015662179098650   \n",
       "\n",
       "                                                user  replyCount  \\\n",
       "0  {'_type': 'snscrape.modules.twitter.User', 'us...           0   \n",
       "1  {'_type': 'snscrape.modules.twitter.User', 'us...           0   \n",
       "2  {'_type': 'snscrape.modules.twitter.User', 'us...           4   \n",
       "3  {'_type': 'snscrape.modules.twitter.User', 'us...           1   \n",
       "4  {'_type': 'snscrape.modules.twitter.User', 'us...           0   \n",
       "\n",
       "   retweetCount  likeCount  ...  \\\n",
       "0             0          4  ...   \n",
       "1             0          7  ...   \n",
       "2            31        654  ...   \n",
       "3             9         98  ...   \n",
       "4             0          6  ...   \n",
       "\n",
       "                                               media  retweetedTweet  \\\n",
       "0                                               None             NaN   \n",
       "1                                               None             NaN   \n",
       "2  [{'_type': 'snscrape.modules.twitter.Photo', '...             NaN   \n",
       "3                                               None             NaN   \n",
       "4                                               None             NaN   \n",
       "\n",
       "                                         quotedTweet inReplyToTweetId  \\\n",
       "0                                               None     1.449012e+18   \n",
       "1  {'_type': 'snscrape.modules.twitter.Tweet', 'u...              NaN   \n",
       "2                                               None              NaN   \n",
       "3                                               None              NaN   \n",
       "4  {'_type': 'snscrape.modules.twitter.Tweet', 'u...              NaN   \n",
       "\n",
       "                                       inReplyToUser  \\\n",
       "0  {'_type': 'snscrape.modules.twitter.User', 'us...   \n",
       "1                                               None   \n",
       "2                                               None   \n",
       "3                                               None   \n",
       "4                                               None   \n",
       "\n",
       "                                      mentionedUsers coordinates place  \\\n",
       "0  [{'_type': 'snscrape.modules.twitter.User', 'u...         NaN   NaN   \n",
       "1  [{'_type': 'snscrape.modules.twitter.User', 'u...         NaN   NaN   \n",
       "2  [{'_type': 'snscrape.modules.twitter.User', 'u...         NaN   NaN   \n",
       "3  [{'_type': 'snscrape.modules.twitter.User', 'u...         NaN   NaN   \n",
       "4                                               None         NaN   NaN   \n",
       "\n",
       "  hashtags  cashtags  \n",
       "0     None       NaN  \n",
       "1     None       NaN  \n",
       "2     None       NaN  \n",
       "3     None       NaN  \n",
       "4     None       NaN  \n",
       "\n",
       "[5 rows x 28 columns]"
      ]
     },
     "execution_count": 164,
     "metadata": {},
     "output_type": "execute_result"
    }
   ],
   "source": [
    "# Reads the json generated from the CLI command above and creates a pandas dataframe\n",
    "tweets_df = pd.read_json('data/user-{}-tweets.json'.format(username), lines=True)\n",
    "\n",
    "# Displays first 5 entries from dataframe\n",
    "tweets_df.head()"
   ]
  },
  {
   "cell_type": "code",
   "execution_count": 165,
   "metadata": {},
   "outputs": [
    {
     "data": {
      "text/plain": [
       "(307, 28)"
      ]
     },
     "execution_count": 165,
     "metadata": {},
     "output_type": "execute_result"
    }
   ],
   "source": [
    "tweets_df.shape"
   ]
  },
  {
   "cell_type": "code",
   "execution_count": 166,
   "metadata": {},
   "outputs": [],
   "source": [
    "arr = tweets_df.to_numpy()"
   ]
  },
  {
   "cell_type": "code",
   "execution_count": 167,
   "metadata": {},
   "outputs": [],
   "source": [
    "def getPercentage(arr, textIndex, phrase):\n",
    "    count = 0\n",
    "    for val in arr:\n",
    "        if phrase in val[textIndex].lower():\n",
    "            count += 1\n",
    "    return count * 100 / len(arr)"
   ]
  },
  {
   "cell_type": "code",
   "execution_count": 168,
   "metadata": {},
   "outputs": [
    {
     "name": "stdout",
     "output_type": "stream",
     "text": [
      "0.0\n"
     ]
    }
   ],
   "source": [
    "print(getPercentage(arr, 3, 'lebron'))"
   ]
  },
  {
   "cell_type": "code",
   "execution_count": 169,
   "metadata": {},
   "outputs": [
    {
     "data": {
      "text/plain": [
       "2018"
      ]
     },
     "execution_count": 169,
     "metadata": {},
     "output_type": "execute_result"
    }
   ],
   "source": [
    "# Check the earliest tweet in the dataset\n",
    "arr[-1][2].year"
   ]
  },
  {
   "cell_type": "code",
   "execution_count": 170,
   "metadata": {},
   "outputs": [
    {
     "data": {
      "text/plain": [
       "Index(['_type', 'url', 'date', 'content', 'renderedContent', 'id', 'user',\n",
       "       'replyCount', 'retweetCount', 'likeCount', 'quoteCount',\n",
       "       'conversationId', 'lang', 'source', 'sourceUrl', 'sourceLabel',\n",
       "       'outlinks', 'tcooutlinks', 'media', 'retweetedTweet', 'quotedTweet',\n",
       "       'inReplyToTweetId', 'inReplyToUser', 'mentionedUsers', 'coordinates',\n",
       "       'place', 'hashtags', 'cashtags'],\n",
       "      dtype='object')"
      ]
     },
     "execution_count": 170,
     "metadata": {},
     "output_type": "execute_result"
    }
   ],
   "source": [
    "tweets_df.columns"
   ]
  },
  {
   "cell_type": "code",
   "execution_count": 171,
   "metadata": {
    "scrolled": false
   },
   "outputs": [],
   "source": [
    "parseDate = lambda x: [x.week, x.month, x.year]\n",
    "\n",
    "def cleanData(data):\n",
    "    # Extract user, date, content, replyCount, retweetCount, and likeCount\n",
    "    data = data.loc[:, ['user', 'date', 'content', 'replyCount', 'retweetCount', 'likeCount']]\n",
    "\n",
    "    # Extract username from user\n",
    "    username = data['user'][0]['username']\n",
    "    data['user'] = username\n",
    "\n",
    "    # Convert date: [week, month, year]\n",
    "    data['date'] = data['date'].apply(np.vectorize(parseDate))\n",
    "    \n",
    "    data.to_csv('data/user-{}-tweets-cleaned.csv'.format(username), index = False)"
   ]
  },
  {
   "cell_type": "code",
   "execution_count": 172,
   "metadata": {},
   "outputs": [],
   "source": [
    "cleanData(tweets_df)"
   ]
  },
  {
   "cell_type": "code",
   "execution_count": null,
   "metadata": {},
   "outputs": [],
   "source": []
  },
  {
   "cell_type": "code",
   "execution_count": 17,
   "metadata": {},
   "outputs": [],
   "source": [
    "usernames = ['RealSkipBayless', 'ShannonSharpe', 'PatMcAfeeShow', 'stephenasmith', 'maxkellerman',\n",
    "            'EmmaWatson', 'AnnaKendrick47', 'VancityReynolds', 'Matt_Leblanc', 'RobertDowneyJr',\n",
    "            'KingJames', 'KDTrey5', 'Giannis_An34', 'StephenCurry30', 'JoelEmbiid', 'steveaoki',\n",
    "            'CousinStizz', 'trvisXX', 'justinbieber', 'ladygaga', 'mcuban', 'travisk', 'ev', \n",
    "            'ariannahuff', 'TonyRobbins', 'Jsipple', 'informor', 'soumitradutta', \n",
    "            'DrMaureenHanson', 'GeoffreyWCoates']\n",
    "\n",
    "new_data = {}\n",
    "for username in usernames:\n",
    "    #data = pd.read_csv(f'cleaned-data/user-{username}-tweets-cleaned.csv').to_numpy()\n",
    "    #print(data)\n",
    "    new_data[username] = {}\n",
    "    for i in range(15):\n",
    "        new_data[username][f'word_{i+1}'] = random.uniform(0,1)\n",
    "\n",
    "with open('top-words.json' ,'w') as f:\n",
    "    json.dump(new_data, f)"
   ]
  },
  {
   "cell_type": "code",
   "execution_count": null,
   "metadata": {},
   "outputs": [],
   "source": []
  }
 ],
 "metadata": {
  "kernelspec": {
   "display_name": "Python 3",
   "language": "python",
   "name": "python3"
  },
  "language_info": {
   "codemirror_mode": {
    "name": "ipython",
    "version": 3
   },
   "file_extension": ".py",
   "mimetype": "text/x-python",
   "name": "python",
   "nbconvert_exporter": "python",
   "pygments_lexer": "ipython3",
   "version": "3.6.5"
  }
 },
 "nbformat": 4,
 "nbformat_minor": 2
}
