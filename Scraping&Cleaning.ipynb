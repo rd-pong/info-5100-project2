{
 "cells": [
  {
   "cell_type": "code",
   "execution_count": 67,
   "metadata": {},
   "outputs": [],
   "source": [
    "import os\n",
    "import pandas as pd\n",
    "import numpy as np"
   ]
  },
  {
   "cell_type": "code",
   "execution_count": 97,
   "metadata": {},
   "outputs": [
    {
     "data": {
      "text/plain": [
       "0"
      ]
     },
     "execution_count": 97,
     "metadata": {},
     "output_type": "execute_result"
    }
   ],
   "source": [
    "# Reference: https://betterprogramming.pub/how-to-scrape-tweets-with-snscrape-90124ed006af\n",
    "# Setting variables to be used in format string command below\n",
    "tweet_count = 1000000\n",
    "username = \"stephenasmith\"\n",
    "\n",
    "# Using OS library to call CLI commands in Python\n",
    "os.system(\"snscrape --jsonl --max-results {} twitter-search 'from:{}'> user-{}-tweets.json\".format(tweet_count, username, username))"
   ]
  },
  {
   "cell_type": "code",
   "execution_count": 99,
   "metadata": {
    "scrolled": false
   },
   "outputs": [
    {
     "data": {
      "text/html": [
       "<div>\n",
       "<style scoped>\n",
       "    .dataframe tbody tr th:only-of-type {\n",
       "        vertical-align: middle;\n",
       "    }\n",
       "\n",
       "    .dataframe tbody tr th {\n",
       "        vertical-align: top;\n",
       "    }\n",
       "\n",
       "    .dataframe thead th {\n",
       "        text-align: right;\n",
       "    }\n",
       "</style>\n",
       "<table border=\"1\" class=\"dataframe\">\n",
       "  <thead>\n",
       "    <tr style=\"text-align: right;\">\n",
       "      <th></th>\n",
       "      <th>_type</th>\n",
       "      <th>url</th>\n",
       "      <th>date</th>\n",
       "      <th>content</th>\n",
       "      <th>renderedContent</th>\n",
       "      <th>id</th>\n",
       "      <th>user</th>\n",
       "      <th>replyCount</th>\n",
       "      <th>retweetCount</th>\n",
       "      <th>likeCount</th>\n",
       "      <th>...</th>\n",
       "      <th>media</th>\n",
       "      <th>retweetedTweet</th>\n",
       "      <th>quotedTweet</th>\n",
       "      <th>inReplyToTweetId</th>\n",
       "      <th>inReplyToUser</th>\n",
       "      <th>mentionedUsers</th>\n",
       "      <th>coordinates</th>\n",
       "      <th>place</th>\n",
       "      <th>hashtags</th>\n",
       "      <th>cashtags</th>\n",
       "    </tr>\n",
       "  </thead>\n",
       "  <tbody>\n",
       "    <tr>\n",
       "      <td>0</td>\n",
       "      <td>snscrape.modules.twitter.Tweet</td>\n",
       "      <td>https://twitter.com/stephenasmith/status/14524...</td>\n",
       "      <td>2021-10-25 04:08:33+00:00</td>\n",
       "      <td>Don’t worry about that young fella @JaMorant. ...</td>\n",
       "      <td>Don’t worry about that young fella @JaMorant. ...</td>\n",
       "      <td>1452487216945639428</td>\n",
       "      <td>{'_type': 'snscrape.modules.twitter.User', 'us...</td>\n",
       "      <td>216</td>\n",
       "      <td>1361</td>\n",
       "      <td>18327</td>\n",
       "      <td>...</td>\n",
       "      <td>None</td>\n",
       "      <td>NaN</td>\n",
       "      <td>None</td>\n",
       "      <td>NaN</td>\n",
       "      <td>None</td>\n",
       "      <td>[{'_type': 'snscrape.modules.twitter.User', 'u...</td>\n",
       "      <td>None</td>\n",
       "      <td>None</td>\n",
       "      <td>None</td>\n",
       "      <td>None</td>\n",
       "    </tr>\n",
       "    <tr>\n",
       "      <td>1</td>\n",
       "      <td>snscrape.modules.twitter.Tweet</td>\n",
       "      <td>https://twitter.com/stephenasmith/status/14523...</td>\n",
       "      <td>2021-10-24 19:14:17+00:00</td>\n",
       "      <td>Big thanks to @EBONYMag for naming me to the E...</td>\n",
       "      <td>Big thanks to @EBONYMag for naming me to the E...</td>\n",
       "      <td>1452352767293599750</td>\n",
       "      <td>{'_type': 'snscrape.modules.twitter.User', 'us...</td>\n",
       "      <td>164</td>\n",
       "      <td>82</td>\n",
       "      <td>1373</td>\n",
       "      <td>...</td>\n",
       "      <td>[{'_type': 'snscrape.modules.twitter.Photo', '...</td>\n",
       "      <td>NaN</td>\n",
       "      <td>None</td>\n",
       "      <td>NaN</td>\n",
       "      <td>None</td>\n",
       "      <td>[{'_type': 'snscrape.modules.twitter.User', 'u...</td>\n",
       "      <td>None</td>\n",
       "      <td>None</td>\n",
       "      <td>[EBONYPower100]</td>\n",
       "      <td>None</td>\n",
       "    </tr>\n",
       "    <tr>\n",
       "      <td>2</td>\n",
       "      <td>snscrape.modules.twitter.Tweet</td>\n",
       "      <td>https://twitter.com/stephenasmith/status/14519...</td>\n",
       "      <td>2021-10-23 16:41:55+00:00</td>\n",
       "      <td>Okay peeps. Okay peeps.  Let’s crawl before we...</td>\n",
       "      <td>Okay peeps. Okay peeps.  Let’s crawl before we...</td>\n",
       "      <td>1451952032890474506</td>\n",
       "      <td>{'_type': 'snscrape.modules.twitter.User', 'us...</td>\n",
       "      <td>623</td>\n",
       "      <td>295</td>\n",
       "      <td>4456</td>\n",
       "      <td>...</td>\n",
       "      <td>None</td>\n",
       "      <td>NaN</td>\n",
       "      <td>{'_type': 'snscrape.modules.twitter.Tweet', 'u...</td>\n",
       "      <td>NaN</td>\n",
       "      <td>None</td>\n",
       "      <td>None</td>\n",
       "      <td>None</td>\n",
       "      <td>None</td>\n",
       "      <td>None</td>\n",
       "      <td>None</td>\n",
       "    </tr>\n",
       "    <tr>\n",
       "      <td>3</td>\n",
       "      <td>snscrape.modules.twitter.Tweet</td>\n",
       "      <td>https://twitter.com/stephenasmith/status/14517...</td>\n",
       "      <td>2021-10-23 05:13:57+00:00</td>\n",
       "      <td>Props to @DwightHoward for addressing the issu...</td>\n",
       "      <td>Props to @DwightHoward for addressing the issu...</td>\n",
       "      <td>1451778901747945474</td>\n",
       "      <td>{'_type': 'snscrape.modules.twitter.User', 'us...</td>\n",
       "      <td>271</td>\n",
       "      <td>274</td>\n",
       "      <td>5018</td>\n",
       "      <td>...</td>\n",
       "      <td>None</td>\n",
       "      <td>NaN</td>\n",
       "      <td>None</td>\n",
       "      <td>NaN</td>\n",
       "      <td>None</td>\n",
       "      <td>[{'_type': 'snscrape.modules.twitter.User', 'u...</td>\n",
       "      <td>None</td>\n",
       "      <td>None</td>\n",
       "      <td>None</td>\n",
       "      <td>None</td>\n",
       "    </tr>\n",
       "    <tr>\n",
       "      <td>4</td>\n",
       "      <td>snscrape.modules.twitter.Tweet</td>\n",
       "      <td>https://twitter.com/stephenasmith/status/14517...</td>\n",
       "      <td>2021-10-23 03:54:16+00:00</td>\n",
       "      <td>This is some embarrassing stuff being displaye...</td>\n",
       "      <td>This is some embarrassing stuff being displaye...</td>\n",
       "      <td>1451758850068074498</td>\n",
       "      <td>{'_type': 'snscrape.modules.twitter.User', 'us...</td>\n",
       "      <td>852</td>\n",
       "      <td>1935</td>\n",
       "      <td>20484</td>\n",
       "      <td>...</td>\n",
       "      <td>None</td>\n",
       "      <td>NaN</td>\n",
       "      <td>None</td>\n",
       "      <td>NaN</td>\n",
       "      <td>None</td>\n",
       "      <td>[{'_type': 'snscrape.modules.twitter.User', 'u...</td>\n",
       "      <td>None</td>\n",
       "      <td>None</td>\n",
       "      <td>None</td>\n",
       "      <td>None</td>\n",
       "    </tr>\n",
       "  </tbody>\n",
       "</table>\n",
       "<p>5 rows × 28 columns</p>\n",
       "</div>"
      ],
      "text/plain": [
       "                            _type  \\\n",
       "0  snscrape.modules.twitter.Tweet   \n",
       "1  snscrape.modules.twitter.Tweet   \n",
       "2  snscrape.modules.twitter.Tweet   \n",
       "3  snscrape.modules.twitter.Tweet   \n",
       "4  snscrape.modules.twitter.Tweet   \n",
       "\n",
       "                                                 url  \\\n",
       "0  https://twitter.com/stephenasmith/status/14524...   \n",
       "1  https://twitter.com/stephenasmith/status/14523...   \n",
       "2  https://twitter.com/stephenasmith/status/14519...   \n",
       "3  https://twitter.com/stephenasmith/status/14517...   \n",
       "4  https://twitter.com/stephenasmith/status/14517...   \n",
       "\n",
       "                       date  \\\n",
       "0 2021-10-25 04:08:33+00:00   \n",
       "1 2021-10-24 19:14:17+00:00   \n",
       "2 2021-10-23 16:41:55+00:00   \n",
       "3 2021-10-23 05:13:57+00:00   \n",
       "4 2021-10-23 03:54:16+00:00   \n",
       "\n",
       "                                             content  \\\n",
       "0  Don’t worry about that young fella @JaMorant. ...   \n",
       "1  Big thanks to @EBONYMag for naming me to the E...   \n",
       "2  Okay peeps. Okay peeps.  Let’s crawl before we...   \n",
       "3  Props to @DwightHoward for addressing the issu...   \n",
       "4  This is some embarrassing stuff being displaye...   \n",
       "\n",
       "                                     renderedContent                   id  \\\n",
       "0  Don’t worry about that young fella @JaMorant. ...  1452487216945639428   \n",
       "1  Big thanks to @EBONYMag for naming me to the E...  1452352767293599750   \n",
       "2  Okay peeps. Okay peeps.  Let’s crawl before we...  1451952032890474506   \n",
       "3  Props to @DwightHoward for addressing the issu...  1451778901747945474   \n",
       "4  This is some embarrassing stuff being displaye...  1451758850068074498   \n",
       "\n",
       "                                                user  replyCount  \\\n",
       "0  {'_type': 'snscrape.modules.twitter.User', 'us...         216   \n",
       "1  {'_type': 'snscrape.modules.twitter.User', 'us...         164   \n",
       "2  {'_type': 'snscrape.modules.twitter.User', 'us...         623   \n",
       "3  {'_type': 'snscrape.modules.twitter.User', 'us...         271   \n",
       "4  {'_type': 'snscrape.modules.twitter.User', 'us...         852   \n",
       "\n",
       "   retweetCount  likeCount  ...  \\\n",
       "0          1361      18327  ...   \n",
       "1            82       1373  ...   \n",
       "2           295       4456  ...   \n",
       "3           274       5018  ...   \n",
       "4          1935      20484  ...   \n",
       "\n",
       "                                               media  retweetedTweet  \\\n",
       "0                                               None             NaN   \n",
       "1  [{'_type': 'snscrape.modules.twitter.Photo', '...             NaN   \n",
       "2                                               None             NaN   \n",
       "3                                               None             NaN   \n",
       "4                                               None             NaN   \n",
       "\n",
       "                                         quotedTweet inReplyToTweetId  \\\n",
       "0                                               None              NaN   \n",
       "1                                               None              NaN   \n",
       "2  {'_type': 'snscrape.modules.twitter.Tweet', 'u...              NaN   \n",
       "3                                               None              NaN   \n",
       "4                                               None              NaN   \n",
       "\n",
       "  inReplyToUser                                     mentionedUsers  \\\n",
       "0          None  [{'_type': 'snscrape.modules.twitter.User', 'u...   \n",
       "1          None  [{'_type': 'snscrape.modules.twitter.User', 'u...   \n",
       "2          None                                               None   \n",
       "3          None  [{'_type': 'snscrape.modules.twitter.User', 'u...   \n",
       "4          None  [{'_type': 'snscrape.modules.twitter.User', 'u...   \n",
       "\n",
       "  coordinates place         hashtags  cashtags  \n",
       "0        None  None             None      None  \n",
       "1        None  None  [EBONYPower100]      None  \n",
       "2        None  None             None      None  \n",
       "3        None  None             None      None  \n",
       "4        None  None             None      None  \n",
       "\n",
       "[5 rows x 28 columns]"
      ]
     },
     "execution_count": 99,
     "metadata": {},
     "output_type": "execute_result"
    }
   ],
   "source": [
    "# Reads the json generated from the CLI command above and creates a pandas dataframe\n",
    "tweets_df = pd.read_json('data/user-{}-tweets.json'.format(username), lines=True)\n",
    "\n",
    "# Displays first 5 entries from dataframe\n",
    "tweets_df.head()"
   ]
  },
  {
   "cell_type": "code",
   "execution_count": 100,
   "metadata": {},
   "outputs": [
    {
     "data": {
      "text/plain": [
       "(38350, 28)"
      ]
     },
     "execution_count": 100,
     "metadata": {},
     "output_type": "execute_result"
    }
   ],
   "source": [
    "tweets_df.shape"
   ]
  },
  {
   "cell_type": "code",
   "execution_count": 101,
   "metadata": {},
   "outputs": [],
   "source": [
    "arr = tweets_df.to_numpy()"
   ]
  },
  {
   "cell_type": "code",
   "execution_count": 6,
   "metadata": {},
   "outputs": [],
   "source": [
    "def getPercentage(arr, textIndex, phrase):\n",
    "    count = 0\n",
    "    for val in arr:\n",
    "        if phrase in val[textIndex].lower():\n",
    "            count += 1\n",
    "    return count * 100 / len(arr)"
   ]
  },
  {
   "cell_type": "code",
   "execution_count": 102,
   "metadata": {},
   "outputs": [
    {
     "name": "stdout",
     "output_type": "stream",
     "text": [
      "1.2490221642764017\n"
     ]
    }
   ],
   "source": [
    "print(getPercentage(arr, 3, 'lebron'))"
   ]
  },
  {
   "cell_type": "code",
   "execution_count": 103,
   "metadata": {},
   "outputs": [
    {
     "data": {
      "text/plain": [
       "2009"
      ]
     },
     "execution_count": 103,
     "metadata": {},
     "output_type": "execute_result"
    }
   ],
   "source": [
    "# Check the earliest tweet in the dataset\n",
    "arr[-1][2].year"
   ]
  },
  {
   "cell_type": "code",
   "execution_count": 104,
   "metadata": {},
   "outputs": [
    {
     "data": {
      "text/plain": [
       "Index(['_type', 'url', 'date', 'content', 'renderedContent', 'id', 'user',\n",
       "       'replyCount', 'retweetCount', 'likeCount', 'quoteCount',\n",
       "       'conversationId', 'lang', 'source', 'sourceUrl', 'sourceLabel',\n",
       "       'outlinks', 'tcooutlinks', 'media', 'retweetedTweet', 'quotedTweet',\n",
       "       'inReplyToTweetId', 'inReplyToUser', 'mentionedUsers', 'coordinates',\n",
       "       'place', 'hashtags', 'cashtags'],\n",
       "      dtype='object')"
      ]
     },
     "execution_count": 104,
     "metadata": {},
     "output_type": "execute_result"
    }
   ],
   "source": [
    "tweets_df.columns"
   ]
  },
  {
   "cell_type": "code",
   "execution_count": 105,
   "metadata": {
    "scrolled": false
   },
   "outputs": [],
   "source": [
    "parseDate = lambda x: [x.week, x.month, x.year]\n",
    "\n",
    "def cleanData(data):\n",
    "    # Extract user, date, content, replyCount, retweetCount, and likeCount\n",
    "    data = data.loc[:, ['user', 'date', 'content', 'replyCount', 'retweetCount', 'likeCount']]\n",
    "\n",
    "    # Extract username from user\n",
    "    username = data['user'][0]['username']\n",
    "    data['user'] = username\n",
    "\n",
    "    # Convert date: [week, month, year]\n",
    "    data['date'] = data['date'].apply(np.vectorize(parseDate))\n",
    "    \n",
    "    data.to_csv('data/user-{}-tweets-cleaned.csv'.format(username), index = False)"
   ]
  },
  {
   "cell_type": "code",
   "execution_count": 106,
   "metadata": {},
   "outputs": [],
   "source": [
    "cleanData(tweets_df)"
   ]
  },
  {
   "cell_type": "code",
   "execution_count": null,
   "metadata": {},
   "outputs": [],
   "source": []
  }
 ],
 "metadata": {
  "kernelspec": {
   "display_name": "Python 3",
   "language": "python",
   "name": "python3"
  },
  "language_info": {
   "codemirror_mode": {
    "name": "ipython",
    "version": 3
   },
   "file_extension": ".py",
   "mimetype": "text/x-python",
   "name": "python",
   "nbconvert_exporter": "python",
   "pygments_lexer": "ipython3",
   "version": "3.6.5"
  }
 },
 "nbformat": 4,
 "nbformat_minor": 2
}
