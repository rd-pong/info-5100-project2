{
 "cells": [
  {
   "cell_type": "code",
   "execution_count": 1,
   "metadata": {},
   "outputs": [],
   "source": [
    "import os\n",
    "import pandas as pd\n",
    "import numpy as np"
   ]
  },
  {
   "cell_type": "code",
   "execution_count": 4,
   "metadata": {},
   "outputs": [],
   "source": [
    "# Twitter Followers:\n",
    "def getFollowers(username):\n",
    "    os.system(\"snscrape --jsonl --max-results {} twitter-search 'from:{}'> data/example-tweets.json\".format(1, username))\n",
    "    \n",
    "    followers = pd.read_json('data/example-tweets.json'.format(username), lines=True).to_numpy()[0][6]['followersCount']\n",
    "    return [username, followers]"
   ]
  },
  {
   "cell_type": "code",
   "execution_count": 9,
   "metadata": {},
   "outputs": [
    {
     "data": {
      "text/html": [
       "<div>\n",
       "<style scoped>\n",
       "    .dataframe tbody tr th:only-of-type {\n",
       "        vertical-align: middle;\n",
       "    }\n",
       "\n",
       "    .dataframe tbody tr th {\n",
       "        vertical-align: top;\n",
       "    }\n",
       "\n",
       "    .dataframe thead th {\n",
       "        text-align: right;\n",
       "    }\n",
       "</style>\n",
       "<table border=\"1\" class=\"dataframe\">\n",
       "  <thead>\n",
       "    <tr style=\"text-align: right;\">\n",
       "      <th></th>\n",
       "      <th>Username</th>\n",
       "      <th>Follower_Count</th>\n",
       "    </tr>\n",
       "  </thead>\n",
       "  <tbody>\n",
       "    <tr>\n",
       "      <td>0</td>\n",
       "      <td>RealSkipBayless</td>\n",
       "      <td>3049868</td>\n",
       "    </tr>\n",
       "    <tr>\n",
       "      <td>1</td>\n",
       "      <td>ShannonSharpe</td>\n",
       "      <td>1538617</td>\n",
       "    </tr>\n",
       "    <tr>\n",
       "      <td>2</td>\n",
       "      <td>PatMcAfeeShow</td>\n",
       "      <td>2161477</td>\n",
       "    </tr>\n",
       "    <tr>\n",
       "      <td>3</td>\n",
       "      <td>stephenasmith</td>\n",
       "      <td>5503310</td>\n",
       "    </tr>\n",
       "    <tr>\n",
       "      <td>4</td>\n",
       "      <td>maxkellerman</td>\n",
       "      <td>675818</td>\n",
       "    </tr>\n",
       "  </tbody>\n",
       "</table>\n",
       "</div>"
      ],
      "text/plain": [
       "          Username  Follower_Count\n",
       "0  RealSkipBayless         3049868\n",
       "1    ShannonSharpe         1538617\n",
       "2    PatMcAfeeShow         2161477\n",
       "3    stephenasmith         5503310\n",
       "4     maxkellerman          675818"
      ]
     },
     "execution_count": 9,
     "metadata": {},
     "output_type": "execute_result"
    }
   ],
   "source": [
    "usernames = ['RealSkipBayless', 'ShannonSharpe', 'PatMcAfeeShow', 'stephenasmith', 'maxkellerman']\n",
    "\n",
    "outputArr = []\n",
    "\n",
    "for username in usernames:\n",
    "    output = getFollowers(username)\n",
    "    outputArr.append([output[0], output[1]])\n",
    "\n",
    "df = pd.DataFrame(data = outputArr, columns = ['Username', 'Follower_Count'])\n",
    "df.to_csv('data/user-followers.csv', index = False)\n",
    "df.head()"
   ]
  },
  {
   "cell_type": "code",
   "execution_count": 54,
   "metadata": {},
   "outputs": [
    {
     "data": {
      "text/plain": [
       "0"
      ]
     },
     "execution_count": 54,
     "metadata": {},
     "output_type": "execute_result"
    }
   ],
   "source": [
    "# Reference: https://betterprogramming.pub/how-to-scrape-tweets-with-snscrape-90124ed006af\n",
    "# Setting variables to be used in format string command below\n",
    "tweet_count = 1000000\n",
    "username = \"mcuban\"\n",
    "\n",
    "# Using OS library to call CLI commands in Python\n",
    "os.system(\"snscrape --jsonl --max-results {} twitter-search 'from:{}'> data/user-{}-tweets.json\".format(tweet_count, username, username))"
   ]
  },
  {
   "cell_type": "code",
   "execution_count": 55,
   "metadata": {
    "scrolled": false
   },
   "outputs": [
    {
     "data": {
      "text/html": [
       "<div>\n",
       "<style scoped>\n",
       "    .dataframe tbody tr th:only-of-type {\n",
       "        vertical-align: middle;\n",
       "    }\n",
       "\n",
       "    .dataframe tbody tr th {\n",
       "        vertical-align: top;\n",
       "    }\n",
       "\n",
       "    .dataframe thead th {\n",
       "        text-align: right;\n",
       "    }\n",
       "</style>\n",
       "<table border=\"1\" class=\"dataframe\">\n",
       "  <thead>\n",
       "    <tr style=\"text-align: right;\">\n",
       "      <th></th>\n",
       "      <th>_type</th>\n",
       "      <th>url</th>\n",
       "      <th>date</th>\n",
       "      <th>content</th>\n",
       "      <th>renderedContent</th>\n",
       "      <th>id</th>\n",
       "      <th>user</th>\n",
       "      <th>replyCount</th>\n",
       "      <th>retweetCount</th>\n",
       "      <th>likeCount</th>\n",
       "      <th>...</th>\n",
       "      <th>media</th>\n",
       "      <th>retweetedTweet</th>\n",
       "      <th>quotedTweet</th>\n",
       "      <th>inReplyToTweetId</th>\n",
       "      <th>inReplyToUser</th>\n",
       "      <th>mentionedUsers</th>\n",
       "      <th>coordinates</th>\n",
       "      <th>place</th>\n",
       "      <th>hashtags</th>\n",
       "      <th>cashtags</th>\n",
       "    </tr>\n",
       "  </thead>\n",
       "  <tbody>\n",
       "    <tr>\n",
       "      <td>0</td>\n",
       "      <td>snscrape.modules.twitter.Tweet</td>\n",
       "      <td>https://twitter.com/mcuban/status/145423336780...</td>\n",
       "      <td>2021-10-29 23:47:07+00:00</td>\n",
       "      <td>Check it out ! https://t.co/HKpHrEXVmZ</td>\n",
       "      <td>Check it out ! twitter.com/hodlandshill/s…</td>\n",
       "      <td>1454233367805931523</td>\n",
       "      <td>{'_type': 'snscrape.modules.twitter.User', 'us...</td>\n",
       "      <td>451</td>\n",
       "      <td>80</td>\n",
       "      <td>382</td>\n",
       "      <td>...</td>\n",
       "      <td>None</td>\n",
       "      <td>NaN</td>\n",
       "      <td>{'_type': 'snscrape.modules.twitter.Tweet', 'u...</td>\n",
       "      <td>NaN</td>\n",
       "      <td>None</td>\n",
       "      <td>None</td>\n",
       "      <td>None</td>\n",
       "      <td>None</td>\n",
       "      <td>None</td>\n",
       "      <td>None</td>\n",
       "    </tr>\n",
       "    <tr>\n",
       "      <td>1</td>\n",
       "      <td>snscrape.modules.twitter.Tweet</td>\n",
       "      <td>https://twitter.com/mcuban/status/145349967863...</td>\n",
       "      <td>2021-10-27 23:11:42+00:00</td>\n",
       "      <td>💯💯💯 https://t.co/1iI1z0Oi9Q</td>\n",
       "      <td>💯💯💯 twitter.com/thedivinenft/s…</td>\n",
       "      <td>1453499678637674505</td>\n",
       "      <td>{'_type': 'snscrape.modules.twitter.User', 'us...</td>\n",
       "      <td>414</td>\n",
       "      <td>157</td>\n",
       "      <td>800</td>\n",
       "      <td>...</td>\n",
       "      <td>None</td>\n",
       "      <td>NaN</td>\n",
       "      <td>{'_type': 'snscrape.modules.twitter.Tweet', 'u...</td>\n",
       "      <td>NaN</td>\n",
       "      <td>None</td>\n",
       "      <td>None</td>\n",
       "      <td>None</td>\n",
       "      <td>None</td>\n",
       "      <td>None</td>\n",
       "      <td>None</td>\n",
       "    </tr>\n",
       "    <tr>\n",
       "      <td>2</td>\n",
       "      <td>snscrape.modules.twitter.Tweet</td>\n",
       "      <td>https://twitter.com/mcuban/status/145279936877...</td>\n",
       "      <td>2021-10-26 00:48:55+00:00</td>\n",
       "      <td>@EmilSkandul @gabriel_zucman In his report he ...</td>\n",
       "      <td>@EmilSkandul @gabriel_zucman In his report he ...</td>\n",
       "      <td>1452799368776622085</td>\n",
       "      <td>{'_type': 'snscrape.modules.twitter.User', 'us...</td>\n",
       "      <td>6</td>\n",
       "      <td>1</td>\n",
       "      <td>5</td>\n",
       "      <td>...</td>\n",
       "      <td>None</td>\n",
       "      <td>NaN</td>\n",
       "      <td>None</td>\n",
       "      <td>1.452796e+18</td>\n",
       "      <td>{'_type': 'snscrape.modules.twitter.User', 'us...</td>\n",
       "      <td>[{'_type': 'snscrape.modules.twitter.User', 'u...</td>\n",
       "      <td>None</td>\n",
       "      <td>None</td>\n",
       "      <td>None</td>\n",
       "      <td>None</td>\n",
       "    </tr>\n",
       "    <tr>\n",
       "      <td>3</td>\n",
       "      <td>snscrape.modules.twitter.Tweet</td>\n",
       "      <td>https://twitter.com/mcuban/status/145279845315...</td>\n",
       "      <td>2021-10-26 00:45:17+00:00</td>\n",
       "      <td>@gabriel_zucman @JoeBiden That said, I do thin...</td>\n",
       "      <td>@gabriel_zucman @JoeBiden That said, I do thin...</td>\n",
       "      <td>1452798453155876870</td>\n",
       "      <td>{'_type': 'snscrape.modules.twitter.User', 'us...</td>\n",
       "      <td>2</td>\n",
       "      <td>1</td>\n",
       "      <td>8</td>\n",
       "      <td>...</td>\n",
       "      <td>None</td>\n",
       "      <td>NaN</td>\n",
       "      <td>None</td>\n",
       "      <td>1.452798e+18</td>\n",
       "      <td>{'_type': 'snscrape.modules.twitter.User', 'us...</td>\n",
       "      <td>[{'_type': 'snscrape.modules.twitter.User', 'u...</td>\n",
       "      <td>None</td>\n",
       "      <td>None</td>\n",
       "      <td>None</td>\n",
       "      <td>None</td>\n",
       "    </tr>\n",
       "    <tr>\n",
       "      <td>4</td>\n",
       "      <td>snscrape.modules.twitter.Tweet</td>\n",
       "      <td>https://twitter.com/mcuban/status/145279763848...</td>\n",
       "      <td>2021-10-26 00:42:03+00:00</td>\n",
       "      <td>@gabriel_zucman My favorite  @JoeBiden saying ...</td>\n",
       "      <td>@gabriel_zucman My favorite  @JoeBiden saying ...</td>\n",
       "      <td>1452797638483587084</td>\n",
       "      <td>{'_type': 'snscrape.modules.twitter.User', 'us...</td>\n",
       "      <td>2</td>\n",
       "      <td>0</td>\n",
       "      <td>4</td>\n",
       "      <td>...</td>\n",
       "      <td>None</td>\n",
       "      <td>NaN</td>\n",
       "      <td>None</td>\n",
       "      <td>1.452796e+18</td>\n",
       "      <td>{'_type': 'snscrape.modules.twitter.User', 'us...</td>\n",
       "      <td>[{'_type': 'snscrape.modules.twitter.User', 'u...</td>\n",
       "      <td>None</td>\n",
       "      <td>None</td>\n",
       "      <td>None</td>\n",
       "      <td>None</td>\n",
       "    </tr>\n",
       "  </tbody>\n",
       "</table>\n",
       "<p>5 rows × 28 columns</p>\n",
       "</div>"
      ],
      "text/plain": [
       "                            _type  \\\n",
       "0  snscrape.modules.twitter.Tweet   \n",
       "1  snscrape.modules.twitter.Tweet   \n",
       "2  snscrape.modules.twitter.Tweet   \n",
       "3  snscrape.modules.twitter.Tweet   \n",
       "4  snscrape.modules.twitter.Tweet   \n",
       "\n",
       "                                                 url  \\\n",
       "0  https://twitter.com/mcuban/status/145423336780...   \n",
       "1  https://twitter.com/mcuban/status/145349967863...   \n",
       "2  https://twitter.com/mcuban/status/145279936877...   \n",
       "3  https://twitter.com/mcuban/status/145279845315...   \n",
       "4  https://twitter.com/mcuban/status/145279763848...   \n",
       "\n",
       "                       date  \\\n",
       "0 2021-10-29 23:47:07+00:00   \n",
       "1 2021-10-27 23:11:42+00:00   \n",
       "2 2021-10-26 00:48:55+00:00   \n",
       "3 2021-10-26 00:45:17+00:00   \n",
       "4 2021-10-26 00:42:03+00:00   \n",
       "\n",
       "                                             content  \\\n",
       "0             Check it out ! https://t.co/HKpHrEXVmZ   \n",
       "1                        💯💯💯 https://t.co/1iI1z0Oi9Q   \n",
       "2  @EmilSkandul @gabriel_zucman In his report he ...   \n",
       "3  @gabriel_zucman @JoeBiden That said, I do thin...   \n",
       "4  @gabriel_zucman My favorite  @JoeBiden saying ...   \n",
       "\n",
       "                                     renderedContent                   id  \\\n",
       "0         Check it out ! twitter.com/hodlandshill/s…  1454233367805931523   \n",
       "1                    💯💯💯 twitter.com/thedivinenft/s…  1453499678637674505   \n",
       "2  @EmilSkandul @gabriel_zucman In his report he ...  1452799368776622085   \n",
       "3  @gabriel_zucman @JoeBiden That said, I do thin...  1452798453155876870   \n",
       "4  @gabriel_zucman My favorite  @JoeBiden saying ...  1452797638483587084   \n",
       "\n",
       "                                                user  replyCount  \\\n",
       "0  {'_type': 'snscrape.modules.twitter.User', 'us...         451   \n",
       "1  {'_type': 'snscrape.modules.twitter.User', 'us...         414   \n",
       "2  {'_type': 'snscrape.modules.twitter.User', 'us...           6   \n",
       "3  {'_type': 'snscrape.modules.twitter.User', 'us...           2   \n",
       "4  {'_type': 'snscrape.modules.twitter.User', 'us...           2   \n",
       "\n",
       "   retweetCount  likeCount  ...  media  retweetedTweet  \\\n",
       "0            80        382  ...   None             NaN   \n",
       "1           157        800  ...   None             NaN   \n",
       "2             1          5  ...   None             NaN   \n",
       "3             1          8  ...   None             NaN   \n",
       "4             0          4  ...   None             NaN   \n",
       "\n",
       "                                         quotedTweet inReplyToTweetId  \\\n",
       "0  {'_type': 'snscrape.modules.twitter.Tweet', 'u...              NaN   \n",
       "1  {'_type': 'snscrape.modules.twitter.Tweet', 'u...              NaN   \n",
       "2                                               None     1.452796e+18   \n",
       "3                                               None     1.452798e+18   \n",
       "4                                               None     1.452796e+18   \n",
       "\n",
       "                                       inReplyToUser  \\\n",
       "0                                               None   \n",
       "1                                               None   \n",
       "2  {'_type': 'snscrape.modules.twitter.User', 'us...   \n",
       "3  {'_type': 'snscrape.modules.twitter.User', 'us...   \n",
       "4  {'_type': 'snscrape.modules.twitter.User', 'us...   \n",
       "\n",
       "                                      mentionedUsers coordinates place  \\\n",
       "0                                               None        None  None   \n",
       "1                                               None        None  None   \n",
       "2  [{'_type': 'snscrape.modules.twitter.User', 'u...        None  None   \n",
       "3  [{'_type': 'snscrape.modules.twitter.User', 'u...        None  None   \n",
       "4  [{'_type': 'snscrape.modules.twitter.User', 'u...        None  None   \n",
       "\n",
       "  hashtags  cashtags  \n",
       "0     None      None  \n",
       "1     None      None  \n",
       "2     None      None  \n",
       "3     None      None  \n",
       "4     None      None  \n",
       "\n",
       "[5 rows x 28 columns]"
      ]
     },
     "execution_count": 55,
     "metadata": {},
     "output_type": "execute_result"
    }
   ],
   "source": [
    "# Reads the json generated from the CLI command above and creates a pandas dataframe\n",
    "tweets_df = pd.read_json('data/user-{}-tweets.json'.format(username), lines=True)\n",
    "\n",
    "# Displays first 5 entries from dataframe\n",
    "tweets_df.head()"
   ]
  },
  {
   "cell_type": "code",
   "execution_count": 56,
   "metadata": {},
   "outputs": [
    {
     "data": {
      "text/plain": [
       "(3459, 28)"
      ]
     },
     "execution_count": 56,
     "metadata": {},
     "output_type": "execute_result"
    }
   ],
   "source": [
    "tweets_df.shape"
   ]
  },
  {
   "cell_type": "code",
   "execution_count": 57,
   "metadata": {},
   "outputs": [],
   "source": [
    "arr = tweets_df.to_numpy()"
   ]
  },
  {
   "cell_type": "code",
   "execution_count": 58,
   "metadata": {},
   "outputs": [],
   "source": [
    "def getPercentage(arr, textIndex, phrase):\n",
    "    count = 0\n",
    "    for val in arr:\n",
    "        if phrase in val[textIndex].lower():\n",
    "            count += 1\n",
    "    return count * 100 / len(arr)"
   ]
  },
  {
   "cell_type": "code",
   "execution_count": 59,
   "metadata": {},
   "outputs": [
    {
     "name": "stdout",
     "output_type": "stream",
     "text": [
      "0.0\n"
     ]
    }
   ],
   "source": [
    "print(getPercentage(arr, 3, 'lebron'))"
   ]
  },
  {
   "cell_type": "code",
   "execution_count": 60,
   "metadata": {},
   "outputs": [
    {
     "data": {
      "text/plain": [
       "2008"
      ]
     },
     "execution_count": 60,
     "metadata": {},
     "output_type": "execute_result"
    }
   ],
   "source": [
    "# Check the earliest tweet in the dataset\n",
    "arr[-1][2].year"
   ]
  },
  {
   "cell_type": "code",
   "execution_count": 61,
   "metadata": {},
   "outputs": [
    {
     "data": {
      "text/plain": [
       "Index(['_type', 'url', 'date', 'content', 'renderedContent', 'id', 'user',\n",
       "       'replyCount', 'retweetCount', 'likeCount', 'quoteCount',\n",
       "       'conversationId', 'lang', 'source', 'sourceUrl', 'sourceLabel',\n",
       "       'outlinks', 'tcooutlinks', 'media', 'retweetedTweet', 'quotedTweet',\n",
       "       'inReplyToTweetId', 'inReplyToUser', 'mentionedUsers', 'coordinates',\n",
       "       'place', 'hashtags', 'cashtags'],\n",
       "      dtype='object')"
      ]
     },
     "execution_count": 61,
     "metadata": {},
     "output_type": "execute_result"
    }
   ],
   "source": [
    "tweets_df.columns"
   ]
  },
  {
   "cell_type": "code",
   "execution_count": 62,
   "metadata": {
    "scrolled": false
   },
   "outputs": [],
   "source": [
    "parseDate = lambda x: [x.week, x.month, x.year]\n",
    "\n",
    "def cleanData(data):\n",
    "    # Extract user, date, content, replyCount, retweetCount, and likeCount\n",
    "    data = data.loc[:, ['user', 'date', 'content', 'replyCount', 'retweetCount', 'likeCount']]\n",
    "\n",
    "    # Extract username from user\n",
    "    username = data['user'][0]['username']\n",
    "    data['user'] = username\n",
    "\n",
    "    # Convert date: [week, month, year]\n",
    "    data['date'] = data['date'].apply(np.vectorize(parseDate))\n",
    "    \n",
    "    data.to_csv('data/user-{}-tweets-cleaned.csv'.format(username), index = False)"
   ]
  },
  {
   "cell_type": "code",
   "execution_count": 63,
   "metadata": {},
   "outputs": [],
   "source": [
    "cleanData(tweets_df)"
   ]
  },
  {
   "cell_type": "code",
   "execution_count": null,
   "metadata": {},
   "outputs": [],
   "source": []
  }
 ],
 "metadata": {
  "kernelspec": {
   "display_name": "Python 3",
   "language": "python",
   "name": "python3"
  },
  "language_info": {
   "codemirror_mode": {
    "name": "ipython",
    "version": 3
   },
   "file_extension": ".py",
   "mimetype": "text/x-python",
   "name": "python",
   "nbconvert_exporter": "python",
   "pygments_lexer": "ipython3",
   "version": "3.6.5"
  }
 },
 "nbformat": 4,
 "nbformat_minor": 2
}
